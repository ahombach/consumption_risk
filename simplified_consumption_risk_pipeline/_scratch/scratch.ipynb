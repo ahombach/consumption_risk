{
 "cells": [
  {
   "cell_type": "code",
   "execution_count": 0,
   "metadata": {
    "application/vnd.databricks.v1+cell": {
     "cellMetadata": {
      "byteLimit": 2048000,
      "rowLimit": 10000
     },
     "inputWidgets": {},
     "nuid": "be6c2859-2fd2-4da9-8ba9-8968644a3ad6",
     "showTitle": false,
     "tableResultSettingsMap": {},
     "title": ""
    }
   },
   "outputs": [],
   "source": [
    "display(spark.read.table(\"main.centralized_system_tables.billing_usage\")\n",
    "                          .selectExpr(\"usage_date as date\", \"account_id as accountId\", \"workspace_id as workspaceId\", \"usage_metadata.cluster_id AS clusterId\",\n",
    "                                      \"sku_name as skuName\", \"billing_origin_product as usageOrigin\")\n",
    "                          .where(f\"date >= '2025-09-01'\")\n",
    "                          .where(\"clusterId is not null\")\n",
    "                          .distinct()\n",
    "                      )"
   ]
  },
  {
   "cell_type": "code",
   "execution_count": 0,
   "metadata": {
    "application/vnd.databricks.v1+cell": {
     "cellMetadata": {},
     "inputWidgets": {},
     "nuid": "002c3d3f-54d2-4b9d-9e0b-cb8a838879d6",
     "showTitle": false,
     "tableResultSettingsMap": {},
     "title": ""
    }
   },
   "outputs": [],
   "source": []
  }
 ],
 "metadata": {
  "application/vnd.databricks.v1+notebook": {
   "computePreferences": null,
   "dashboards": [],
   "environmentMetadata": {
    "base_environment": "",
    "environment_version": "4"
   },
   "inputWidgetPreferences": null,
   "language": "python",
   "notebookMetadata": {
    "pythonIndentUnit": 2
   },
   "notebookName": "scratch",
   "widgets": {}
  },
  "language_info": {
   "name": "python"
  }
 },
 "nbformat": 4,
 "nbformat_minor": 0
}
